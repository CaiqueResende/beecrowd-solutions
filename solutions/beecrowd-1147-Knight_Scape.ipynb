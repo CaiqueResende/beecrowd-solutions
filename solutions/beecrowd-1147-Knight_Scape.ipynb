{
  "nbformat": 4,
  "nbformat_minor": 0,
  "metadata": {
    "colab": {
      "provenance": [],
      "authorship_tag": "ABX9TyOL4GFL5vRLlYzLcECiLfxe"
    },
    "kernelspec": {
      "name": "python3",
      "display_name": "Python 3"
    },
    "language_info": {
      "name": "python"
    }
  },
  "cells": [
    {
      "cell_type": "markdown",
      "source": [
        "# Knight Scape - beecrowd 1105\n",
        "Level: 6\n",
        "\n",
        "Solved by: Caique Resende\n",
        "\n",
        "Date: 2023/09/18\n",
        "\n",
        "[Link](https://www.beecrowd.com.br/judge/en/problems/view/1147)"
      ],
      "metadata": {
        "id": "uyXAWdVwtAT4"
      }
    },
    {
      "cell_type": "code",
      "source": [
        "col_num = {'a':1, 'b':2, 'c':3, 'd':4, 'e':5, 'f':6, 'g':7, 'h':8}\n",
        "\n",
        "## combination of movements of a Knight\n",
        "d_x = [1, 1, 2, 2, -1, -1, -2, -2]\n",
        "d_y = [2, -2, 1, -1, 2, -2, 1, -1]\n",
        "\n",
        "test = 0\n",
        "while 1:\n",
        "  pos_i = input()\n",
        "  if pos_i == '0':\n",
        "    break\n",
        "\n",
        "  ## blocked positions:\n",
        "  blocked = set()\n",
        "\n",
        "  for i in range(8):\n",
        "    paw = input()\n",
        "    paw_row = int(paw[0])\n",
        "    paw_col = col_num[paw[1]]\n",
        "\n",
        "    blocked.update({(paw_row - 1, col) for col in [paw_col - 1, paw_col + 1] if 1 <= col <= 8})\n",
        "\n",
        "  ## possibble positions for the Knight:\n",
        "  num_pos = 0\n",
        "  pos_i_row = int(pos_i[0])\n",
        "  pos_i_col = col_num[pos_i[1]]\n",
        "\n",
        "  for i in range(8):\n",
        "    row = d_x[i] + pos_i_row\n",
        "    col = d_y[i] + pos_i_col\n",
        "    if 1 <= row <= 8 and 1 <= col <= 8 and (row, col) not in blocked:\n",
        "      num_pos += 1\n",
        "  test += 1\n",
        "  print(f'Caso de Teste #{test}: {num_pos} movimento(s).')"
      ],
      "metadata": {
        "id": "ciEVAna_NTkF"
      },
      "execution_count": null,
      "outputs": []
    }
  ]
}
