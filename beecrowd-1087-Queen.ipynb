{
  "nbformat": 4,
  "nbformat_minor": 0,
  "metadata": {
    "colab": {
      "provenance": [],
      "authorship_tag": "ABX9TyPO/AoWuYXSrYk/2VxL7wbB"
    },
    "kernelspec": {
      "name": "python3",
      "display_name": "Python 3"
    },
    "language_info": {
      "name": "python"
    }
  },
  "cells": [
    {
      "cell_type": "markdown",
      "source": [
        "# Queen - beecrowd 1087\n",
        "Level: 4\n",
        "\n",
        "Solved by: Caique Resende\n",
        "\n",
        "Date: 2023/09/14\n",
        "\n",
        "[Link](https://www.beecrowd.com.br/judge/en/problems/view/1087)"
      ],
      "metadata": {
        "id": "jt-m0yw2a34P"
      }
    },
    {
      "cell_type": "markdown",
      "source": [
        "Positions in a chess board:\n",
        "\n",
        "![image.png](data:image/png;base64,iVBORw0KGgoAAAANSUhEUgAAAgAAAAH+CAYAAADqCLYOAAAgAElEQVR4Ae1dwXXrug5UUV65Fq/dRzpIEcnq79NBbhPZ55WhfySZFiWLNOWQ0AAYn/OOJJMGgRkCHFHKfd3//ve/3vPnv9/f3vt/5N/3HCD/5N/rHPBe+zsKAN/JPySA54/3AkD+mf/Mf79zgAKAOwCe89/97g8FgN/iH8Sv5wIQMPB6pACgAPCc/xQA3AFyPwc8FwCvC3+ImwKAAsBz/rsv/kMh8PwJhdDzkfz73QWiAKAA8Jz/FAAUAO7ngOcC4Fn4DbFTAFAAeM5/98V/KAKeP94XAPLv9+6fAqDvuQBwAXA/BygAfC8C5N8v/9wB4A6A5/x3v/jzDtBv8Q+7H54LQMDA65ECgALAc/5TAHAHyP0c8FwAvC78IW4KAAoAz/nvvvgPhcDzJxRCz0fy73cXiAKAAsBz/lMAUAC4nwOeC4Bn4TfETgFAAeA5/90X/6EIeP54XwDIv9+7fwoA/hXAuAByAfBdBMg/+fc6B7wLQO4AcAfAa+6PcXsvALwD9L34k3/f/FMAUABQADifA54nAAUgHwF5ngMUAM6LP+8AfN8BkH/yTwHodw5QAFAAeM5/vgTIlwDdzwHPBcDz3f8QOwUABYDn/Hdf/LkD4PfuLyx+ngtAwMDrkQKAAsBz/lMAcAfA/RzwXAC8LvwhbgoACgDP+e+++A+FwPMnFELPR/LvdxeIAoACwHP+UwBQALifA54LgGfhN8ROAUAB4Dn/3Rf/oQh4/nhfAMi/37t/CgD+S4DjAsgFwHcRIP/k3+sc8C4AuQPAHQCvuT/G7b0A8A7Q9+JP/n3zTwFAAUAB4HwOeJ4AFIB8BOR5DlAAOC/+vAPwfQdA/sk/BaDfOUABQAHgOf/5EiBfAnQ/BzwXAM93/0PsFAAUAJ7z333x5w6A37u/sPh5LgABA69HCgAKAM/5TwHAHQD3c8BzAfC68Ie4KQAoADznv/viPxQCz59QCD0fyb/fXSAKAAoAz/lPAUAB4H4OeC4AnoXfEDsFAAWA5/x3X/yHIuD5430BIP9+7/4pAPgvAY4LIBcA30WA/JN/r3PAuwDkDgB3ALzm/hi39wLAO0Dfiz/5980/BQAFAAWA8zngeQJQAPIRkOc5QAHgvPjzDsD3HQD5J/8UgH7nAAUABYDn/OdLgHwJ0P0c8FwAPN/9D7FTAFAAeM5/98WfOwB+7/7C4ue5AAQMvB4pACgAPOc/BQB3ANzPAc8FwOvCH+KmAKAA8Jz/7ov/UAg8f0Ih9Hwk/353gSgAKAA85z8FAAWA+znguQB4Fn5D7BQAFACe89998R+KgOeP9wWA/Pu9+6cA4L8EOC6AXAB8FwHyT/69zgHvApA7ANwB8Jr7Y9zeCwDvAH0v/uTfN/8UABQAFADO54DnCUAByEdAnucABYDz4s87AN93AOSf/FMA+p0DFAAUAJ7zny8B8iVA93PAcwHwfPc/xE4BQAHgOf/dF3/uAPi9+wuLn+cCEDDwetwUAD/v577ruv78/vN0buzp+9TYAR22iP/3dhrjP719ZxeI0G/Aavjv8qGzmKxhL+U09Jviv/Zfa0MKrv/Cf/jt52Xi/9l8Cf3RjmuaAq/5/P/p389T3GH+d1d9M2CLi5DXJXyGvhMGp/7tW18NeIn/r+tY8+7c32pg1+mqA3/i/+OywKBkvmyNd+R3KwHw1V/Hhf9rTO58AdjTdz3FcK6X4H/0l67rT28f/dtpOGYEwPdbfzq99f9uOwhTIbj0nwp3FGY29nD61V/P732QiF/Xrte/AOzgP/A8FIHTpb88my+hP+DxNf4nAaBwzZ/Dffgz4H38jzkf1YBlLdEjBGZA9uT//KtwprEGLDnbw//QNxJ8w3oQXwPm+TLWaX6uBECgckruvAB4pW/4Dc5xC5T/fr+fC4A1wUonwBD/42cP/9Ovx7vGSBA82sT85m/8T/Pk8vHCfFnPnwOvH5kp4d+iAAiLdgmfqwXgQP6253CI5fnxNf5Xv/p578/duS/YNF798NjLbewK+B/rfXzDp3M+UABsJm7BBFj/btwOiifE88Tbnnzyv3tMwZIFIP5VuHMI+wFxG/b5Ngdl/I93gJeP/iXBuJ4/B14/MlTC/9Rn3gLWV/yHuF/m/yb4T6foMcg4F+TzdzuGcj9e43/5K413/3/i//e3nx79DTW/rF78lacWv6cA2Cy8ewnd2788OVuQvra5TOXhqmQB6Ps+fg6odC94jcV0XcDn4g6goP/mPMOYBy/zH/1wem9A1/Pfwf2X+R8F/3oLWOd7QBGNt9PC/L//cLoB0FgCXub/ls/h/Z9O6aMgCoDNwryvoI+TQOkEGBLg8bO3APS9rwVgmh/zS5/75st20TlODNTgv+91LgLbXBTw+bDjV/CbzVpzHO8h9r/yr/Xx3xB3wGB5LOFyel8g1IDpHbBIEIJyvYwz+WeAexaAPX0fp9rR36wBma5LJsCUuNoX/yHex88LnLp6Bjgl/7z9HW0DKxSC5H+9CBfk/8M7PwW/AV0U/sa/TuEXYn61/j++AKqT/x07ANOi8Pim9wuLRUAf4Fg+ASaCu/tzvtu1woK/jvmRhi1OV/wPC36052d/B2DNf7xo6Ez+MA9e4f/runzmPz4DNv0S6Jr/FefrRwKgi33gPD6+wn/4jda8D/7HOMznK25HLlf8r3eARkGo7xHQSgBMam59ZzP9NcBqAbht+W33DfDiH2fSh4K+fWc3/Tng1gSI7vzC38HeBUK8QGCfzyzt4f82H0LcCt8AHuJ+mf9Fgd8qGNicx3G/xH/8/scwBxQu/n/m/1b0Qw0M28ExthrOX+J//NFUL8r+WmweBelsyc+O+n9/CXBeA7J/Nr6oFzi1YSUAkKiR8WU5AXCIkfRLBmnMUSRxRh0LkxkZr1A5kfRLBmnMUSRxRhyLAgBUmUlOFszUlPFKEmfUsWSQxhwFlRNJvzCZkfFKEmfEsSgAKABkMg10FMSklPYJlBoRt6SxRhxPBGjQQRD5kPSJAoACADQ1ZdySTDbUsWSQxhwFlRNJvzCZkfFKEmfEsUYBgOgYffL5PgJ5J++cA5wDnAMyc4ACYPPv4GXUJ8IoTLStfwcBgRkZH8g/+fc+B2QyDXMUCgAKgNWfwskoT6Sig5maMl4h8XCULzJIY45yFOZI42IyI+MVBQAFAAWATK5BjoJUiI/yBZIYIaeOwhxpXCGoIYehAKAAoACATE0Zp5AK8VG+yCCNOcpRmCONi8mMjFcUABQAFAAyuQY5ClIhPsoXSGKEnDoKc6RxhaCGHIYCgAKAAgAyNWWcQirER/kigzTmKEdhjjQuJjMyXlEAUABQAMjkGuQoSIX4KF8giRFy6ijMkcYVghpyGAoACgAKAMjUlHEKqRAf5YsM0pijHIU50riYzMh4RQFAAUABIJNrkKMgFeKjfIEkRsipozBHGlcIashhKAAoACgAIFNTximkQnyULzJIY45yFOZI42IyI+MVBQAFAAWATK5BjoJUiI/yBZIYIaeOwhxpXCGoIYehAKAAoACATE0Zp5AK8VG+yCCNOcpRmCONi8mMjFcUABQAFAAyuQY5ClIhPsoXSGKEnDoKc6RxhaCGHIYCgAKAAgAyNWWcQirER/kigzTmKEdhjjQuJjMyXlEAUABQAMjkGuQoSIX4KF8giRFy6ijMkcYVghpyGAoACgAKAMjUlHEKqRAf5YsM0pijHIU50riYzMh4RQFAAUABIJNrkKMgFeKjfIEkRsipozBHGlcIashhKAAoACgAIFNTximkQnyULzJIY45yFOZI42IyI+MVBQAFAAWATK5BjoJUiI/yBZIYIaeOwhxpXCGoIYehAKAAoACATE0Zp5AK8VG+yCCNOcpRmCONi8mMjFcUABQAFAAyuQY5ClIhPsoXSGKEnDoKc6RxhaCGHIYCgAKAAgAyNWWcQirER/kigzTmKEdhjjQuJjMyXlEAUABQAMjkGuQoSIX4KF8giRFy6ijMkcYVghpyGAoACgAKAMjUlHEKqRAf5YsM0pijHIU50riYzMh4RQFAAUABIJNrkKMgFeKjfIEkRsipozBHGlcIashhKAAoACgAIFNTximkQnyULzJIY45yFOZI42IyI+MVBQAFAAWATK5BjoJUiI/yBZIYIaeOwhxpXCGoIYehAKAAoACATE0Zp5AK8VG+yCCNOcpRmCONi8mMjFcUABQAFAAyuQY5ClIhPsoXSGKEnDoKc6RxhaCGHIYCgAKAAgAyNWWcQirER/kigzTmKEdhjjQuJjMyXlEAUABQAMjkGuQoSIX4KF8giRFy6ijMkcYVghpyGAoACgAKAMjUlHEKqRAf5YsM0pijHIU50riYzMh4RQFAAUABIJNrkKMgFeKjfIEkRsipozBHGlcIashhKAAoACgAIFNTximkQnyULzJIY45yFOZI42IyI+MVBQAFAAWATK5BjoJUiI/yBZIYIaeOwhxpXCGoIYehAKAAoACATE0Zp5AK8VG+yCCNOcpRmCONi8mMjFcUABQAFAAyuQY5ClIhPsoXSGKEnDoKc6RxhaCGHIYCgAKAAgAyNWWcQirER/kigzTmKEdhjjQuJjMyXlEAUABQAMjkGuQoSIX4KF8giRFy6ijMkcYVghpyGAoACgAKAMjUlHEKqRAf5YsM0pijHIU50riYzMh4RQFAAUABIJNrkKMgFeKjfIEkRsipozBHGlcIashhKAAoACgAIFNTximkQnyULzJIY45yFOZI42IyI+MVBQAFAAWATK5BjoJUiI/yBZIYIaeOwhxpXCGoIYehAKAAoACATE0Zp5AK8VG+yCCNOcpRmCONi8mMjFcUABQAFAAyuQY5ClIhPsoXSGKEnDoKc6RxhaCGHIYCgAKAAgAyNWWcQirER/kigzTmKEdhjjQuJjMyXlEAUABQAMjkGuQoSIX4KF8giRFy6ijMkcYVghpyGAoACgAKAMjUlHEKqRAf5YsM0pijHIU50riYzMh4RQFAAUABIJNrkKMgFeKjfIEkRsipozBHGlcIashhKAAoACgAIFNTximkQnyULzJIY45yFOZI42IyI+PVgwD493bqu667/3f5+M0uEKH/6e072w+J8LUvMdQ/7+d77AMO16+4dXm+p+/ylzhXaywCn2EO5Phf9r30n7/5ubIeC+U6ZuMVTr+uU76c339iUyrO1xwsOe36NP/f/dtprhPjfLl8qKwBMVF7+V/2P/fapsDL/H9cFnUy1Iuu01cHXub/67rAQGP+LwXA91t/Or31/26FfCoGKUI/+kvX9ae3j7EQmBAAP+/9+fzehzI+Jfe139QAe/rGMwzsfFEA9vIfzZXPS9d32heAVzgdisD52l/PXa+xALzO/yQA0gJBjxi8p+RO/sf6ENWLux1FJ6/z/8iv1hpwp2sX/1/9tYsE3/Db+PpuFPtkKQDWd3DDgtCd+rfvR7LniTMVAhMCYM3VHlL39F2Pc+D1zOMGx0X8T78bxWIkCLJ21/Ps4Osk/E85/enfz8Mu0XRULwDWPGT5NygA1hMhy/9qAVj/Vsl1Nk+z/K/qxZ6+63l28HWSqhz/Y1t8c6hzPuQFwLjNk9oBCBPAsAAYt3hikpNTpe/39M2YkW7KFoAi/od5EHaDdD4GSmL+hNPxDnB8RmRUAGT5n/J+3vp9dqMQ6gXe8SX+b4vD+Rw9Bsk9L0wOcmxDnfz/7bXe/Q/xJz9P8n969DesD3rzPyMAShf20n54iR8m//YE2EPqnr7box31bcDg8VjAa/wcUOn2f7oAPOF0cQfwpO9R5BaM+8h7yNMC/qM7t/zjwmAT87gN0xNOx8VhvQWcf2doe5xjv63D/3QDoPVx0DYDT/i//Si8/9MpfRSUFACjoiva0t1XKNIT7rjisDUBRmILSd3Td2usI79L8VHO/8SbtQUgz+lUHOYbvrJicSTPqbFr8R92gTQuAlvY5PnvN3b8dM6BGvxrfvw3xL/1ecp/P2z5z4Jvel8sEoRbRgG/2xQA+4q/PQHwnPyZyT1951/hnG0VgH3834SboWeAzzmdkn/e/o62gQtFI8oMIP+PC8Bz/vu+f3g+bEcA7Mt/3Xf/WwKghP/HF0B18r8SANNi3m3e+d/aHrZ6LQmAicTt7Zxb2/22L9cXpbw/92O5AOzgf1jwo7lgYwcgx+ma/xjbqU3/S4Dl/H9els/89y0ax+32Lef75MfM5B7+V5yvHwnMRqHPlniU8x9+pznvQwwzQTv4X78fMArCeUdgtol9thQA8TPd6N8CmP686zY57kV/Un7ruyCNfw1wp2gkNbqbCxhEL3p1QQBk+94twp+EJBiPu/i/zYeA0dO/FsEq+nHcd5KynN6KQ+D//qPhZLUYLNqwL2Ic/tvD/7rv5k0DLudx3HeG9vJ/K/qhBm5OjbtxzJMYh138j+9/6H75N8R+Z2Yn/+NOwb3+6fwz4KUAiF7qCeB4ON4ngMMTD/w+i9Eh7feQn2Hjof0OhsMTD/w+i9Eh7feQKQASL4HcETJ+8iw5PLQbpzgbngd+n8WYBch44zNsPLQbpzgbHgUABYDKf761ZmHKZojxxpo4arVlnOJseFo5q+l3FiDjjRQAFAAUAMaTPBdezUKq1VYOH+ttWjmr6bd1jnPxUQA4fe+hZgLRlo6X3cgTeeIc4ByI58AoAHIKwXpbDIbXc+sc5+Lzynkcdw4f620xDl7PrXOci88r5yFuCgDuAOTyw3xbSATPR/MkZwL0zHuIPQOP+aaAgdcjBQAFgPkkzwXoNfHjuHP4WG+LcfB6bp3jXHxeOQ9xUwBQAOTyw3xbSATPR/MkZwL0zHuIPQOP+aaAgdcjBQAFgPkkzwXoNfHjuHP4WG+LcfB6bp3jXHxeOQ9xUwBQAOTyw3xbSATPR/MkZwL0zHuIPQOP+aaAgdcjBQAFgPkkzwXoNfHjuHP4WG+LcfB6bp3jXHxeOQ9xUwBQAOTyw3xbSATPR/MkZwL0zHuIPQOP+aaAgdcjBQAFgPkkzwXoNfHjuHP4WG+LcfB6bp3jXHxeOQ9xUwBQAOTyw3xbSATPR/MkZwL0zHuIPQOP+aaAgdcjBQAFgPkkzwXoNfHjuHP4WG+LcfB6bp3jXHxeOQ9xUwBQAOTyw3xbSATPR/MkZwL0zHuIPQOP+aaAgdcjBQAFgPkkzwXoNfHjuHP4WG+LcfB6bp3jXHxeOQ9xUwBQAOTyw3xbSATPR/MkZwL0zHuIPQOP+aaAgdcjBQAFgPkkzwXoNfHjuHP4WG+LcfB6bp3jXHxeOQ9xUwBQAOTyw3xbSATPR/MkZwL0zHuIPQOP+aaAgdcjBQAFgPkkzwXoNfHjuHP4WG+LcfB6bp3jXHxeOQ9xUwBQAOTyw3xbSATPR/MkZwL0zHuIPQOP+aaAgdcjBQAFgPkkzwXoNfHjuHP4WG+LcfB6bp3jXHxeOQ9xUwBQAOTyw3xbSATPR/MkZwL0zHuIPQOP+aaAgdcjBQAFgPkkzwXoNfHjuHP4WG+LcfB6bp3jXHxeOQ9xUwBQAOTyw3xbSATPR/MkZwL0zHuIPQOP+aaAgdcjBQAFgPkkzwXoNfHjuHP4WG+LcfB6bp3jXHxeOQ9xUwBQAOTyw3xbSATPR/MkZwL0zHuIPQOP+aaAgdcjBQAFgPkkzwXoNfHjuHP4WG+LcfB6bp3jXHxeOQ9xUwBQAOTyw3xbSATPR/MkZwL0zHuIPQOP+aaAgdcjBQAFgPkkzwXoNfHjuHP4WG+LcfB6bp3jXHxeOQ9xUwBQAOTyw3xbSATPR/MkZwL0zHuIPQOP+aaAgdcjBQAFgPkkzwXoNfHjuHP4WG+LcfB6bp3jXHxeOQ9xUwBQAOTyw3xbSATPR/MkZwL0zHuIPQOP+aaAgdcjBQAFgPkkzwXoNfHjuHP4WG+LcfB6bp3jXHxeOQ9xUwBQAOTyw3xbSATPR/MkZwL0zHuIPQOP+aaAgdcjBQAFgPkkzwXoNfHjuHP4WG+LcfB6bp3jXHxeOQ9xUwBQAOTyw3xbSATPR/MkZwL0zHuIPQOP+aaAgdcjBQAFgPkkzwXoNfHjuHP4WG+LcfB6bp3jXHxeOQ9xUwBQAOTyw3xbSATPR/MkZwL0zHuIPQOP+aaAgdcjBQAFgPkkzwXoNfHjuHP4WG+LcfB6bp3jXHxeOQ9xUwBQAOTyw3xbSATPR/MkZwL0zHuIPQOP+aaAgdcjBQAFgPkkzwXoNfHjuHP4WG+LcfB6bp3jXHxeOQ9xUwBQAOTyw3xbSATPR/MkZwL0zHuIPQOP+aaAgdcjBQAFgPkkzwXoNfHjuHP4WG+LcfB6bp3jXHxeOQ9xUwBQAOTyw3xbSATPR/MkZwL0zHuIPQOP+aaAgdcjBQAFgPkkzwXoNfHjuHP4WG+LcfB6bp3jXHxeOQ9xUwBQAOTyw3xbSATPR/MkZwL0zHuIPQOP+aaAgdcjBQAFgPkkzwXoNfHjuHP4WG+LcfB6bp3jXHxeOQ9xUwBQAOTyw3xbSATPR/MkZwL0zHuIPQOP+aaAgdcjBQAFgPkkzwXoNfHjuHP4WG+LcfB6bp3jXHxeOQ9xUwBQAOTyw3xbSATPR/MkZwL0zHuIPQOP+aaAgdcjBQAFgPkkzwXoNfHjuHP4WG+LcfB6bp3jXHxeOQ9xUwBQAOTyw3xbSATPR/MkZwL0zHuIPQOP+aaAgdfjgwD4eT/3Xdfd/rv2X0+mQOh/fv950hOzeU38v7dTFP+l/8wIhGXfrr98/PZrexquY2YCn9McyPO/p288BtL5mp8lp3n+w28/L1O+nN6+HfH/07+fQ524Ha/PqgUS85MvgcNw3Mv/sv+pf/vWVwNiVopz+usa1cl4HuRrRjwWwnngPRyXfD7J/4/LAgON+b8SAF/99fzeh6X869r1XTKpv/pr1/Xn96+xENgQAB/95fTW/7st+mNhv3xsF/Xvt/4U9Z0mzpMJkxETYQIecZwTcSf/xXNlHgHtbIn3Dv4Dl0MROF36y6nrNRaAIf75s4f/SQAky8NsFPrsL/yPOR/VgKUtPUJgJmgP//Ovwll+vQi9sI5Lzvbk/0d/6SLBN6wH8XWoD+DHlQBYkjOqwajIL1vD1VQIbAiAZdLuSnClE2C5AAROp2MZ//v7Lkc59mpZAPby/92/nYadn+moXwAsucjzb1EA7OF/tQCAF/rcPF+yPl/l+Z/7jWc/7/25O/faNoJzuGTr/1jv4xs+nfMhIwDCHX7YD1gRfr+0KgAGQnfc1Y3bQfGEWBaT3EQ7uu1O5eKklP/hR3v6LgY5/CKN/XP+xwIx7hBZFADPOJ3yfn5cqK/4D5PvZf5vgv90ira/U7uF4OJgOwmf8b/8lca7/z/x//vbT4/+hpqvN/8fBUD8bKdof8+YAIif6xQntN4JMBTAxWcP/3v6LgbBuXhYAEr5X9wBOOU/onG8W+x0Pf8d3H+Z/3GerLeAdb4HFNHY9y/l9CQWipaLxWDHX7zM/03Uhfd/OqWPgh4FQMRJWVIbEwCRWh/v8Lrnd/XjJFA6AR4EwG7+px+UzZXIOMjpQwEo4n9a8OeXPg0JgIiXfZzqXARe4/+3/+9hx0/vHIgoX5yW8j/2e/qoeGEa5uJl/n+nHcJQA6a1IhKEUR3JjXF0W1YA9EXPdewKgP8KnutrX/yHCZj8FPF/+/WevskB5RuyCZjkf0r+efs72gZWKASTqO/hdE/f5IDyDa/x/9s/1gZ7AqCs/usUfmGmvcr/4/sBOvlfCoAhiaN9nKUCvD3zi9onEA0JgKHgR9v+yx2AieDu3n67Vljw15M+JMOY8BG/Wf6zc+VuEf5kgcUu/uN3PHQmf4j9TlKW02X+f12Xz/zHZ8AK7wIDBuNxF/8rztePBJTcAQ5x3z87+A+/WdaI8K2e48v8r3eAxpsFfY+AlgKgvyX5/d8BiJN8WQDCi1/ruyBtfw2wmAC3lznmmOItnZUAGCdAdOcXMLsLhHiBwD6f03UP/7m+s0X0s5f5XxT41WKwaMPmfrEA7Mn/+FnxMPcVLv7D3PwT/7eiH+pF2A5e2jTK/5jY+14URKwFS65uNT7U8sWf9a3q//0lwHkN0PhXQCsBgEhRW5+WEwA/WVv42xZhbOst8NRmE5uhtt5p46qFv20RxrbeAk9NNikAlN2ttZhc2Cna1rsWeGqz2RZhbOvauGrhLzZDbb1rgacmmxQAFABtMwzcuqZkbeUrOEVN3WuFqSa7TQEGN66Jpxa+UgBQAICnaFv3WiSVNpttEca2ro2rFv5iM9TWuxZ4arI5CgBNDtNXn+8pkHfyzjnAOcA5UHcOUADEfwbTVmxCWmdCRX8GBclQW6fIP/n3PgfaZhi2dQoACoDVn0LVVZgaigt2irb1TgM/rX1sizC29dbYarCPzVBb7ygAKAAoANrmGLR1DQW6tY/QBDV2rjW2Guw3hhjaPAUABQAFAHSKtnVOQ4Fu7WNbhLGtt8ZWg31shtp6RwFAAUAB0DbHoK1rKNCtfYQmqLFzrbHVYL8xxNDmKQAoACgAoFO0rXMaCnRrH9sijG29NbYa7GMz1NY7CgAKAAqAtjkGbV1DgW7tIzRBjZ1rja0G+40hhjZPAUABQAEAnaJtndNQoFv72BZhbOutsdVgH5uhtt5RAFAAUAC0zTFo6xoKdGsfoQlq7FxrbDXYbwwxtHkKAAoACgDoFG3rnIYC3drHtghjW2+NrQb72Ay19Y4CgAKAAqBtjkFb11CgW/sITVBj51pjq8F+Y4ihzVMAUABQAECnaFvnNBTo1j62RRjbemtsNdjHZqitdxQAFAAUAG1zDNq6hgLd2kdogho71xpbDfYbQwxtngKAAoACADpF2zqnoUC39rEtwtjWW2OrwT42Q229owCgAKAAaJtj0NY1FOjWPkIT1Ni51thqsN8YYmjzFAAUABQA0Cna1jkNBbq1j20RxrbeGlsN9rEZausdBQAFAAVA2xyDtq6hQLf2EZqgxs61xlaD/ebGFEMAACAASURBVMYQQ5unAKAAoACATtG2zmko0K19bIswtvXW2Gqwj81QW+8oACgAKADa5hi0dQ0FurWP0AQ1dq41thrsN4YY2jwFAAUABQB0irZ1TkOBbu1jW4SxrbfGVoN9bIbaekcBQAFAAdA2x6CtayjQrX2EJqixc62x1WC/McTQ5ikAKAAoAKBTtK1zGgp0ax/bIoxtvTW2GuxjM9TWOwoACgAKgLY5Bm1dQ4Fu7SM0QY2da42tBvuNIYY2TwFAAUABAJ2ibZ3TUKBb+9gWYWzrrbHVYB+bobbeUQBQAFAAtM0xaOsaCnRrH6EJauxca2w12G8MMbR5CgAKAAoA6BRt65yGAt3ax7YIY1tvja0G+9gMtfWOAoACgAKgbY5BW9dQoFv7CE1QY+daY6vBfmOIoc1TAFAAUABAp2hb5zQU6NY+tkUY23prbDXYx2aorXcUABQAFABtcwzauoYC3dpHaIIaO9caWw32G0MMbZ4CgAKAAgA6Rds6p6FAt/axLcLY1ltjq8E+NkNtvaMAoACgAGibY9DWNRTo1j5CE9TYudbYarDfGGJo8xQAFAAUANAp2tY5DQW6tY9tEca23hpbDfaxGWrrHQUABQAFQNscg7auoUC39hGaoMbOtcZWg/3GEEObpwCgAKAAgE7Rts5pKNCtfWyLMLb11thqsI/NUFvvKAAoACgA2uYYtHUNBbq1j9AENXauNbYa7DeGGNo8BQAFAAUAdIq2dU5DgW7tY1uEsa23xlaDfWyG2npHAUABQAHQNsegrWso0K19hCaosXOtsdVgvzHE0OYpACgAKACgU7StcxoKdGsf2yKMbb01thrsYzPU1jsKAAoACoC2OQZtXUOBbu0jNEGNnWuNrQb7jSGGNk8BQAFAAQCdom2d01CgW/vYFmFs662x1WAfm6G23lEAUABQALTNMWjrGgp0ax+hCWrsXGtsNdhvDDG0eQoACgAKAOgUbeuchgLd2se2CGNbb42tBvvYDLX1jgKAAoACoG2OQVvXUKBb+whNUGPnWmOrwX5jiKHNUwBQAFAAQKdoW+c0FOjWPrZFGNt6a2w12MdmqK13FAAUABQAbXMM2rqGAt3aR2iCGjvXGlsN9htDDG2eAoACgAIAOkXbOqehQLf2sS3C2NZbY6vBPjZDbb2jAKAAoABom2PQ1jUU6NY+QhPU2LnW2Gqw3xhiaPMUABQAFADQKdrWOQ0FurWPbRHGtt4aWw32sRlq6x0FAAUABUDbHIO2rqFAt/YRmqDGzrXGVoP9xhBDm6cAoACgAIBO0bbOaSjQrX1sizC29dbYarCPzVBb75IC4PPS9V3X9ae37+wC8e/tVNQPeSJsQfx1neI/v/9sNY/f/byfx9gHnIb/rl/JrrANKV5K+A/cT/Ff+s/f3+xcSY119Pdb5JTwH363p2/4Dcoxhf1z/r/7t9M078P87y4f7vhf1oBznykXKJQv/HiZ/4/Lovbd50Cnrw4sALldFOX013WBQW6t2BoD4bttATCQe7r0l1NOAHz0l1EgfIyF4JlQSE00hO8fiBiIPV/767nrk6T+vPfn83sf5MFUCK69Ng2wiX8p/6e3/t9t0R8XDCsLQAn/YdLs6Rt+A3R8nf9JAFw+dIq+OO4HOgo5HXM+qgEPdhR8EeNwPy/K/0fetdaAB5qK+P/qr10k+Ib1IL5+MIr5xYYACIk9HZ8v7KX9HifMfcIdfOe4pOanfz8Pd/PTMSkAlj/qe6UT4JGDvfxPvI67AZEgeLRrkf8X58p67hx4/chTKf+hHy6vj7Ft+7qEv5TT1QKwNKLm6hGjwOt0fF7/b5h+v/Wn7tS/fW9j/DgOTr8lWYX8j/U+vuHTOR8eBMBYyMc7udIJUNoPh/D1ZIwnwKjqx738nQJgUI1dPCFiq7jnayz28z/wGnaD8o+L1mOhXMfs7OF/T994DKTzNQfl/E95P2/96iz+Q/zxp5jTm+A/n6PHIAqfAb7O/7Kea737f5n/vu+nxwRDzd+5VsQT7uDzpQAYVVx4hlO6sJf2W06Y9cQ78vrOwULV7SF1T9/7aBAnC9z38h8/B1S6/b8oAHv439MXgultJ/7Ef7RzNwoHhc9/X+Z/FPzrLWB97wHV4X+6AdD6OOieGS/kdHhXoFP6KCgSANNCPpNYurCX9kMXANMiPov48kV9nARKJ8BcAF7lf+JV/wKwh/89fe/lBfKkFv9hF2iuH7j5Psc8+TgRs5PThx2/8nqBNBFmLF7P/zH3lT7+G+J/if9+2PKfBd+4c6T7HYBJxc1betHWVpZcKwJgInQz/szirnnxHyb+XABe5f9W6NU/A9zD/56+SOX+0RfyHxaAnZyOd4vRDoDSbeC/86/77n8WAPv4Hxf8xbqgUwBGOwBrxb5e2Kfrxz/1Wfdb28G/fiyLwzdrQqfr7r5FcLteTIJtS8jfzgVgzdOa1xX/w4Ifbfvr3wFYs/SM/7j/um/chn3+Kv+fl+Uz//EZcPZGYT2/cK63GVpzesv3Vf7fXxJePxLYNgr37av8h99pzvsQwzYpT/hf7wCNgnDeEdi2ifftHwTA9h1j8Vuj0fPDQMRRx21aSiZAtEty+7cAZoGwbRXt2zTmTwTA700QhLiVvgE8xL/9ecL/4kfrvotG6IuX+Y/f/xjmgNLF/0/834p+2DW8awNoxpfOvcz/WL+nNUBjzY/jXiISrtY5PV3H9f3+/P9WA+9iMJhQcMwIAByFHpPV4lwBT81cbIGnNpvNwFVgWBtXLfxVQFMzF1vgqc1mM3AVGKYASN4BKmCvgovakrWFvxVgVGuiBZ7abKolr4Lj2rhq4W8FGNWaoACgAIheBPSz6xMXErXZW8HxGAev5xVgVGvCK+dx3GrJq+A4BQAFAAVAhUTSaiIuhF7PtXJXw2+vnMdx18BRqw0KAKCXEeNJyXOfuxHknbxzDnAOSM2BUQBoVS81/JYCGnmcGjhqtYHMi5RvWrmr4bcUxsjj1MBRqw1kXiR8owDgDoDW3K3it0SSoY9RBUilRtC5kfBPKXVV3JbAF3kMCgAKgCqJpNUIcnJK+aaVuxp+S2GMPE4NHLXaQOZFwjcKAAoArblbxW+JJEMfowqQSo2gcyPhn1LqqrgtgS/yGBQAFABVEkmrEeTklPJNK3c1/JbCGHmcGjhqtYHMi4RvFAAUAFpzt4rfEkmGPkYVIJUaQedGwj+l1FVxWwJf5DEoACgAqiSSViPIySnlm1buavgthTHyODVw1GoDmRcJ3ygAKAC05m4VvyWSDH2MKkAqNYLOjYR/Sqmr4rYEvshjUABQAFRJJK1GkJNTyjet3NXwWwpj5HFq4KjVBjIvEr5RAFAAaM3dKn5LJBn6GFWAVGoEnRsJ/5RSV8VtCXyRx6AAoACokkhajSAnp5RvWrmr4bcUxsjj1MBRqw1kXiR8owCgANCau1X8lkgy9DGqAKnUCDo3Ev4ppa6K2xL4Io9BAUABUCWRtBpBTk4p37RyV8NvKYyRx6mBo1YbyLxI+EYBQAGgNXer+C2RZOhjVAFSqRF0biT8U0pdFbcl8EUegwKAAqBKImk1gpycUr5p5a6G31IYI49TA0etNpB5kfCNAoACQGvuVvFbIsnQx6gCpFIj6NxI+KeUuipuS+CLPAYFAAVAlUTSagQ5OaV808pdDb+lMEYepwaOWm0g8yLhGwUABYDW3K3it0SSoY9RBUilRtC5kfBPKXVV3JbAF3kMCgAKgCqJpNUIcnJK+aaVuxp+S2GMPE4NHLXaQOZFwjcKAAoArblbxW+JJEMfowqQSo2gcyPhn1LqqrgtgS/yGBQAFABVEkmrEeTklPJNK3c1/JbCGHmcGjhqtYHMi4RvFAAUAFpzt4rfEkmGPkYVIJUaQedGwj+l1FVxWwJf5DEoACgAqiSSViPIySnlm1buavgthTHyODVw1GoDmRcJ3ygAKAC05m4VvyWSDH2MKkAqNYLOjYR/Sqmr4rYEvshjUABQAFRJJK1GkJNTyjet3NXwWwpj5HFq4KjVBjIvEr5RAFAAaM3dKn5LJBn6GFWAVGoEnRsJ/5RSV8VtCXyRx6AAoACokkhajSAnp5RvWrmr4bcUxsjj1MBRqw1kXiR8owCgANCau1X8lkgy9DGqAKnUCDo3Ev4ppa6K2xL4Io9BAUABUCWRtBpBTk4p37RyV8NvKYyRx6mBo1YbyLxI+EYBQAGgNXer+C2RZOhjVAFSqRF0biT8U0pdFbcl8EUegwKAAqBKImk1gpycUr5p5a6G31IYI49TA0etNpB5kfCNAoACQGvuVvFbIsnQx6gCpFIj6NxI+KeUuipuS+CLPAYFAAVAlUTSagQ5OaV808pdDb+lMEYepwaOWm0g8yLhGwUABYDW3K3it0SSoY9RBUilRtC5kfBPKXVV3JbAF3kMCgAKgCqJpNUIcnJK+aaVuxp+S2GMPE4NHLXaQOZFwjcKAAoArblbxW+JJEMfowqQSo2gcyPhn1LqqrgtgS/yGBQAFABVEkmrEeTklPJNK3c1/JbCGHmcGjhqtYHMi4RvFAAUAFpzt4rfEkmGPkYVIJUaQedGwj+l1FVxWwJf5DEoACgAqiSSViPIySnlm1buavgthTHyODVw1GoDmRcJ3ygAKAC05m4VvyWSDH2MKkAqNYLOjYR/Sqmr4rYEvshjUABQAFRJJK1GkJNTyjet3NXwWwpj5HFq4KjVBjIvEr5RAFAAaM3dKn5LJBn6GFWAVGoEnRsJ/5RSV8VtCXyRx6AAoACokkhajSAnp5RvWrmr4bcUxsjj1MBRqw1kXiR8owCgANCau1X8lkgy9DGqAKnUCDo3Ev4ppa6K2xL4Io9BAUABUCWRtBpBTk4p37RyV8NvKYyRx6mBo1YbyLxI+EYBQAGgNXer+C2RZOhjVAFSqRF0biT8U0pdFbcl8EUegwKAAqBKImk1gpycUr5p5a6G31IYI49TA0etNpB5kfCNAoACQGvuVvFbIsnQx6gCpFIj6NxI+KeUuipuS+CLPAYFAAVAlUTSagQ5OaV808pdDb+lMEYepwaOWm0g8yLhGwUABYDW3K3it0SSoY9RBUilRtC5kfBPKXVV3JbAF3mMlQD46d/PXd910X/XryzQP+/nsf/5/SfbD7VxSc53/3aKYh9wuHz0yz6/9+t/b6cFVpePuS31G8TvZ2728R+4n+bLtc/PlHkUpLMlH/v4D7/9vExz5vT2fZ8boU3DceZjD/97+s4joJ0t+dnP/7IGnPq3b301YOZkB6df10Xtm9cMXXXgT/x/XBYYaMz/TQHwZM2/zZev/tp1/fn9axQNlgRA0UL+/dafTm/9v9sOwlQILv2nwh2FdQEo5v/83gfZ93Xt+q7sh/NwAGdbBaCI/8DzUAROl/5y6nqNBWCIf/5MC0AZjXv6ziOgnf2F/zHnoxqwtKVHCMyc/I1TjTVgydkkAMvy/6O/dJHgG9aD+DrUB/DjHwRAmDbTpHEnANbEKp0Ary8Agf/pOO4GRIJg2Yp79XoBGAp8KBjTkQIAl+eUZ6/zv1oA1vVA0fWMzR8EwM97f+7OvbaN4Jf5H+t9fMOncz5sCoB5O6eEUHsCYI4/UnjPEnrcDoonhN47gDn+Ev6H8hF2g8J+wFxS0M+2CsAcf57/8Q5wfERkSwDM8ef4n/K+rC/uLHiZ/5vgP8WPDDOPC5fjYNWGmZ3XOdV49z/EveRlyuN5Tufzf3r0N9R8vfm/EgDzVBjOpme8z57pWBIAy8Qs39bXOwGGBEh9nvIfPwcs2zdODXXY98sCsIP/xR2AU/4j1p7Olagv0unL/I+CP1ogxvnQ9WXbx8t5lvNBoi3FRzmn0w2AxhKQw7ek/of3fzqlj4KyAiDc2eWJtSsA/vsdtnWeJ/U4CZROgCEB0p/yxC4vFunRjmjJFYA0/9OCPxd7mwKgLP8Da+VzJfwC4fga/7/9fw87fnrnQJqHMk7H3Ff4+G+I+2X+V2vDJBYiQfhsxxikPS8Aip7rGBYAt22+3Ju92hf/rAAo4v9WPvb0TVcc8ZZsAUjyPwnDeasw+ssRhUIwCfoeTvf0TQ4o3/Aa/7/9fw9zw6AAKOK0TCTIM1s24qv8jwv+Itd18r8QAF/X5TO/8bnOXdndng89bAfYEQCfl6WCWy7uE8HznwXerheTAGtrLzu5IwUaUmUX/0NxiOaChR2AffzHXOtM/jA/XuE/P1eCRfxjwGA47uN/xfn6kUCUX/EYiOeBpTyn2/Vfa96HmGM+dvG/3gFS+ghoIQD6+Jnu8Dfw98V/gGs9ASblt74L0vbXAPEEmLb1UndzKwEwToCob/i3ExS+CBSSYR//t/kQ4lb4BvAQ98v8Lwr8ajFYtMVCAfP8Jf6zteJuEf7kT/zfin6ogfMjIUyeF7FGc/ROUpbTdf0ffjWtAdpq/j3eP+b//fn/rQZq/CugpQCIkXFynkoKT987oXozTE88p2LdBMbJlylMPH3vhOrNMD3xvBUrBUCkhLcA8vDdZmY4+dIDv89idEL1ZpjPsPHQvgmMky898JuLkQKAAsBJqm+HmUsOL23byPj41gvHuTh9ML0dZQ4XD20UABQA25nh5FsPSf4sRidUb4b5DBsP7ZvAOPnSA7+5GEcBkOvANl0v9JAv8sU5wDnAOcA5UDIHKACy/xCOfRlcMkms97HPcjpC69yWxJdGx35LCT7W+9hnOR0hBQAFwPJP4Rw+Ekmnh/0W68W9JD77LKcjLMHHep80OvZbKAAoACgA7Od5MkLrxb0kviQ4DhpK8LHexwHNyRApACgAKACS6WG/wXpxL4nPPsvpCEvwsd4njY79FgoACgAKAPt5nozQenEviS8JjoOGEnys93FAczJECgAKAAqAZHrYb7Be3Evis89yOsISfKz3SaNjv4UCgAKAAsB+nicjtF7cS+JLguOgoQQf630c0JwMkQKAAoACIJke9husF/eS+OyznI6wBB/rfdLo2G+hAKAAoACwn+fJCK0X95L4kuA4aCjBx3ofBzQnQ6QAoACgAEimh/0G68W9JD77LKcjLMHHep80OvZbKAAoACgA7Od5MkLrxb0kviQ4DhpK8LHexwHNyRApACgAKACS6WG/wXpxL4nPPsvpCEvwsd4njY79FgoACgAKAPt5nozQenEviS8JjoOGEnys93FAczJECgAKAAqAZHrYb7Be3Evis89yOsISfKz3SaNjv4UCgAKAAsB+nicjtF7cS+JLguOgoQQf630c0JwMkQKAAoACIJke9husF/eS+OyznI6wBB/rfdLo2G+hAKAAoACwn+fJCK0X95L4kuA4aCjBx3ofBzQnQ6QAoACgAEimh/0G68W9JD77LKcjLMHHep80OvZbKAAoACgA7Od5MkLrxb0kviQ4DhpK8LHexwHNyRApACgAKACS6WG/wXpxL4nPPsvpCEvwsd4njY79FgoACgAKAPt5nozQenEviS8JjoOGEnys93FAczJECgAKAAqAZHrYb7Be3Evis89yOsISfKz3SaNjv4UCgAKAAsB+nicjtF7cS+JLguOgoQQf630c0JwMkQKAAoACIJke9husF/eS+OyznI6wBB/rfdLo2G+hAKAAoACwn+fJCK0X95L4kuA4aCjBx3ofBzQnQ6QAoACgAEimh/0G68W9JD77LKcjLMHHep80OvZbKAAoACgA7Od5MkLrxb0kviQ4DhpK8LHexwHNyRApACgAKACS6WG/wXpxL4nPPsvpCEvwsd4njY79FgoACgAKAPt5nozQenEviS8JjoOGEnys93FAczJECgAKAAqAZHrYb7Be3Evis89yOsISfKz3SaNjv4UCgAKAAsB+nicjtF7cS+JLguOgoQQf630c0JwMkQKAAoACIJke9husF/eS+OyznI6wBB/rfdLo2G+hAKAAoACwn+fJCK0X95L4kuA4aCjBx3ofBzQnQ6QAoACgAEimh/0G68W9JD77LKcjLMHHep80OvZbKAAoACgA7Od5MkLrxb0kviQ4DhpK8LHexwHNyRApACgAKACS6WG/wXpxL4nPPsvpCEvwsd4njY79FgoACgAKAPt5nozQenEviS8JjoOGEnys93FAczJECgAKAAqAZHrYb7Be3Evis89yOsISfKz3SaNjv4UCgAKAAsB+nicjtF7cS+JLguOgoQQf630c0JwMkQKAAoACIJke9husF/eS+OyznI6wBB/rfdLo2G+hAKAAoACwn+fJCK0X95L4kuA4aCjBx3ofBzQnQ6QAoACgAEimh/0G68W9JD77LKcjLMHHep80OvZbKAAoACgA7Od5MkLrxb0kviQ4DhpK8LHexwHNyRApACgAKACS6WG/wXpxL4nPPsvpCEvwsd4njY79FgoACgAKAPt5nozQenEviS8JjoOGEnys93FAczJECgAKAAqAZHrYb7Be3Evis89yOsISfKz3SaNjv4UCgAKAAsB+nicjtF7cS+JLguOgoQQf630c0JwMkQKAAoACIJke9husF/eS+OyznI6wBB/rfdLo2G+hAKAAoACwn+fJCK0X95L4kuA4aCjBx3ofBzQnQ6QAoACgAEimh/0G68W9JD77LKcjLMHHep80OvZbNgXAv7dT33Xd7b9T//b9m1wkQt/T23eyD/oEWtP8836O4j/37z/rHtP1sl/XX7+2+yF/u8VN4HSaA2n+l/0u/edvep5sjYPy3ZqfJa9p/sPvvq5TrpxTEyV0BDxucbDkNcX/d/92CjXidrx8qKwBa1r28L+n73ochOuX+f+4RDUyngf66sCah2JOv64LDDTm/4MAGJP/9Nb/e1rMP/pL1/Wnt4+xEFgRACP55/c+sebPc+XnvT9H/aZJc+21aYB1AdjFfzRPPi9d3xlYAIr5DzNhKALna389d73GAvA6/5MAuHzoFH1x3IHK4biH/z194zGQzmMchvPy/H/kXWsNiPko5/Srv3bRzcGwHsTXsVHg85UAGBb1lOJ/JHyaPFMhsCEAVqTuIU7pBFgWgFf4n+bFXwrH0ofUPGv3/UzzXv5/+vfzsPMzHfULgD38WxQAe/jf03eeYWhny9zbw/8qH7/f+tPutWNl4+lNZ5v+Myc7OB3rfXzDt+O384CHny0FwI3EU7y19/SuzpAAuC3i53O0pVW6rz9uB8UT4nBuixxYFICX+B+Scigcw26QzsdAd6B28j/eLYzzw4gA2MX/lPeljwoX8+ygQp/y4SX+d86V+xhgJwtMdvG/XIy13v0P8d8/OzmdHv0NNV9v/i8FwPhcJ9oBGCdE1+e3+QwJgHERX2/rlDzb1zsBFgVgL//xc8CnQnFZMBbjHrwg3AvAHv7HYhEEn1P+I97GHaBO3/PfxQKwh/89fe8TDO9kkYd78//O/3QDkF8njOX/jcrw/k8XPQ7GYznt0YYAiJO4ZHEv6YNL/mMBCEV9AK2ssI+TQOkEeCwAe/mfuLWzAJTwP82LeXOobJ6k0/C4llr8h10gjYvAHf1xUS/hv+/7PX3vA+Cd1OBf8+O/1+v/sOU/3xyOu4Hq3wG4bQHNb/2XLO4lfZQIgNsW0Pwy9/PCrnnxH8rRogC8xP+N24ffYnMex30vy8X8T8k/b39Hj4yUCcEYh/8eONyR2w+/tcz/+Lbg6qWv57XiPs+ATv7Ov+67/yH++6c4/7deFtXJ/3IH4HeV8Istoant8U3v1W/u20IKC8D6jn+xzTcR3N1v+27Xygr+fbLfThYFYA//Q8GPtv1N7ADs4j9GUmfyDxG8yv/nJXpU+Pvbj8+Ao78KWdrFrgUzkyseC/L//uLnou9sEf1sydOqlhfUf815H2KfOdrB/3oHaBQP847AbBP7bCUAfvvpLmC+o5m39NYCYFJ+67sgjS+CLSi6ERniuq/3t8XhLgDGCTDjFPrf2xdGcS9CEtyP453cHFea/9t8KPz3Iu72AQXigp1S/pc/Gv8a4L4YLNqwLx54KeU/fv9jmANKF/8h/sVnD//JvguL0Bcv8z/mse6Xf0PsC4KSnN5u+OYFob8//7/VQI35/ygAAAt0IKrVcTEBnF20wlSTXWeUL8LVxFMrXxeAOLtohakmu84oX4RLAbC+A1jAY/9CU6K28tU+y+kIW2GqyW4aHfstmnhq5at9ltMRUgBQAKyeA2M/r21RBNLpYb+lBZ7abNpnOR2hNq5a+JtGx34LBQAFAAWA/TxPRtiioGqzmQTHQYM2rlr464DmZIgUAA7feWiRRLTpb+eEnJNzzgHdc2AUAEl54KCBE3j1FrQDzuMQyT/59z4H4nzwdu6dewoA7gB4y/lFvN4LwBC/5w/5J/+e5wAFAAWA5/rv/v0HCgDdW7g1Fi/PBaAGfpptUABQAHjOfwoA7gC4nwOeC4DmxbuG7xQAFACe89998R+KiOdPjSKq3Qb597sLRAFAAeA5/ykAKADczwHPBUC7ePur/xQAFACe89998R8KiOfPXwuohd+Tf+4AuJ0DFhL4rzG4Jf/h/4bnsxCQf5+8h7pB/v3yzx0A7gB4zn/uAHAHwP0c8FwAggjyeqQAoADwnP/ui/9Q+Dx/vBb+OG7yzx0At3MgTgSv527J5yOAUQCRf78LwFDzPH+81vwQN3cAuAPgOf+5A8AFwP0c8FwAwkLo9UgBQAHgOf/dF/+h8Hn+eC38cdzk3+8OEAUABYDn/KcAoABwPwc8F4BYCHk8pwCgAPCc/+6L/1D0PH88Fv11zOSfOwBu58A6GTxeuyWfLwGOAoj8+10Ahnrn+eOx3scxcweAOwCe8587AFwA3M8BzwUgXgw9nlMAUAB4zn/3xX8oep4/Hov+Omby73cHiAKAAsBz/lMAUAC4nwOeC8BaDHm7pgCgAPCc/+6L/1DwPH+8FfyteMk/dwDczoGthPD2nVvy+RLgKIDIv98FYKh1nj/eav06Xu4AcAfAc/5zB4ALgPs54LkArBdEb9cUABQAnvPfffEfCp7nwN9cGwAAEZtJREFUj7eCvxUv+fe7A0QBQAHgOf8pACgA3M8BzwVgSxB5+o4CgALAc/67L/5DsfP88VTsU7GSf+4AuJ0DqaTw9L1b8vkS4CiAyL/fBWCoc54/nur8VqzcAeAOgOf85w4AFwD3c8BzAdhaFD19RwFAAeA5/90X/6HYef54KvapWMm/3x0gCgAKAM/5TwFAAeB+DnguAClR5OV7CgAKAM/57774D4XO88dLoc/FSf65A+B2DuQSw0ubW/L5EuAogMi/3wVgqHGeP15qfCpO7gBwB8Bz/nMHgAuA+znguQCkFkYv31MAUAB4zn/3xX8odJ4/Xgp9Lk7y73cHiAKAAsBz/lMAUAC4nwOeC0BOGHloowCgAPCc/+6L/1DkPH88FPlnMZJ/7gC4nQPPksNDu1vy+RLgKIDIv98FYKhvnj8e6nsuRu4AcAfAc/5zB4ALgPs54LkA5BZHD20UABQAnvPfffEfipznj4ci/yxG8u93B4gCgALAc/5TAFAAuJ8DngvAM3FkvZ0CgALAc/67L/5DgfP8sV7gS+Ij/9wBcDsHShLEeh+35PMlwFEAkX+/C8BQ2zx/rNf2Z/FxB4A7AJ7znzsAXADczwHPBeDZAmm9nQKAAsBz/rsv/kOB8/yxXuBL4iP/fneAKAAoADznPwUABYD7OeC5AJQIJMt9KAAoADznv/viPxQ3zx/Lxb00NvLPHQC3c6A0SSz3c0s+XwIcBRD597sADHXN88dyXS+JjTsA3AHwnP/cAeAC4H4OeC4AJYuk5T4UABQAnvPfffEfipvnj+XiXhob+fe7A0QBQAHgOf8pACgA3M8BzwWgVCRZ7UcBQAHgOf/dF/+hsHn+WC3se+Ii/9wBmObA17Xvum7jv2v/lZglP+/nsf/5/SfRA/vrRaJ8XDZiH/C49J8bQuHf22nR//KhcyLdGdrJf+B+mjPpOXK3D3jyF/7Dbz8vU86c3r5VCoo7Lbv4/+nfz6tacU1VifsIcCeBw/G4M/+H3yxrwKl/+9ZXA+6k7OF/T9/7AHgnf+J/NV805v/THYCva9d3m4n91V+7rj+/f42FwIQA2Fjkx+J++Xgs7N9v/en01v+7/WYqBNtCYTHJNsY4uj2Xlln+z+99kH3pfjnrx7c9wz7Jf+BxKAKnS385db3GAjDEn/ukeZ0EwGZpyBkEa/sL/2PORzXgmS3U9hwlaf4ff7Wn7+Ovj/nmGSfp/P/oL10k+Ib1IL4O9QH8mBcAP+/9uTv3+Zv7qRCYFAB7SN3TF2xSJFOviP/p1+NuQCQIkjbBGrIF4Cmn3/3bqesvH9PRnADI8u9AAGT5Xy0AYDmdndcrX5MpmeV/9as9fVc/PfIyi1OO/7EtvuHTOR+yAqBM0dkVAGn1t7HNN24HxRNio88q8bKTT7BvKgHL+B9+HXaDwn5AyiLe9zkOnvE/3gGOu0M2BUCe/ynv50eGz24U8LgfPHqZ/9vicDpFj0G2dgoF8zgXS64txUye/+Wv9vRd/vLYqxwuz/J/bB8fD+vN/4wAmIr68y0+qwJgUHTD3V3JQq53AgwJsP0p4D9+Dvh8omwPc/C36QLwhP/FHYBT/iPupvdB9L0H8jL/o+BfbwGX1ouSmiLXJ6IxOi3I/3vvPX3vP4I4eZn/m7CbREDXd0ofBSUFQPmWrk0BsOf53jgJlE6AlAAo53/KY2sLQJ7/acGfxaE9AbCX/7ALpE0HphaAPP+//X8PO35658DWSryH/z19t8Y68ruX+f9d3iCM88XOOwB7FJ1FAbAkNzVJhu+1L/5DDI+fPfzffm3qGeAz/qf2efs72gZWKATJ//pu+xn/v/1/D8+HLQmAPfm/p+/jTDv6m+3a/pz/R4Gok//NHYDtu7nbM78HiW9PAExqbv08fyK4uz/nu10rLPjrSb9OwiL+hwU/mgvbv1lbxrteYzFcl/EfLxo6kz/EvmZlm8tl/n9dl8/8x2fARl4CLeN/xfn6kYCCZ/9/4T/Mme25ElrxjwGD+FjE/3oHaBSE+h4BbQiASdE9vtW/LABhy299F/T4O+xJEBM/nU/q7/GN7pUAGCdAdOcX/v2Eu0CIFwjs8yVDpfzf5kOI++lfiyxHQbl6mf9FgV8tBos2bO6H+JefQv7j9z+GOaBw8R/i/hP/t6IfauD8SAif8zjul/gff5SaK0uLyFcxDtN5Yf0Pu7/3+qfzz4A3BAAyXfV9e5wAupK3hv/1UdVjsQZ+2m3oYau+p9q5q+F/fVT1WKyBn2YbFADK7tZaTDY96Vrf0xZ4arNZH1U9FrVx1cJfPWzV97QFnppsUgBQANTPKkUWNSVrK18V0VXd1VaYarJbHVRFBjXx1MJXCgAKAEXpWt/VFkmlzWZ9VPVY1MZVC3/1sFXf0xZ4arI5CgBNDtNXf+8okHNyzjnAOcA5UH8OUAA8vAVdX2UiW2RSrd+CR2arvm/kn/x7nwP1s0qPRQoACoCNP4WqrzSRi4yedK3vKTIvUr7VR1WPRSmMkcfRw1Z9TykAKAAoAOrnlRqLyIVZyjc1ZDVwVApj5HEawKrGJAUABQAFgJp0re8ocmGW8q0+qnosSmGMPI4etup7SgFAAUABUD+v1FhELsxSvqkhq4GjUhgjj9MAVjUmKQAoACgA1KRrfUeRC7OUb/VR1WNRCmPkcfSwVd9TCgAKAAqA+nmlxiJyYZbyTQ1ZDRyVwhh5nAawqjFJAUABQAGgJl3rO4pcmKV8q4+qHotSGCOPo4et+p5SAFAAUADUzys1FpELs5Rvashq4KgUxsjjNIBVjUkKAAoACgA16VrfUeTCLOVbfVT1WJTCGHkcPWzV95QCgAKAAqB+XqmxiFyYpXxTQ1YDR6UwRh6nAaxqTFIAUABQAKhJ1/qOIhdmKd/qo6rHohTGyOPoYau+pxQAFAAUAPXzSo1F5MIs5Zsasho4KoUx8jgNYFVjkgKAAoACQE261ncUuTBL+VYfVT0WpTBGHkcPW/U9pQCgAKAAqJ9XaiwiF2Yp39SQ1cBRKYyRx2kAqxqTFAAUABQAatK1vqPIhVnKt/qo6rEohTHyOHrYqu8pBQAFAAVA/bxSYxG5MEv5poasBo5KYYw8TgNY1ZikAKAAoABQk671HUUuzFK+1UdVj0UpjJHH0cNWfU8pACgAKADq55Uai8iFWco3NWQ1cFQKY+RxGsCqxiQFAAUABYCadK3vKHJhlvKtPqp6LEphjDyOHrbqe0oBQAFAAVA/r9RYRC7MUr6pIauBo1IYI4/TAFY1JikAKAAoANSka31HkQuzlG/1UdVjUQpj5HH0sFXfUwoACgAKgPp5pcYicmGW8k0NWQ0clcIYeZwGsKoxSQFAAUABoCZd6zuKXJilfKuPqh6LUhgjj6OHrfqeUgBQAFAA1M8rNRaRC7OUb2rIauCoFMbI4zSAVY1JCgAKAAoANela31HkwizlW31U9ViUwhh5HD1s1feUAoACgAKgfl6psYhcmKV8U0NWA0elMEYepwGsakxSAFAAUACoSdf6jiIXZinf6qOqx6IUxsjj6GGrvqcUABQAFAD180qNReTCLOWbGrIaOCqFMfI4DWBVY5ICgAKAAkBNutZ3FLkwS/lWH1U9FqUwRh5HD1v1PaUAoACgAKifV2osIhdmKd/UkNXAUSmMkcdpAKsakxQAFAAUAGrStb6jyIVZyrf6qOqxKIUx8jh62KrvKQUABQAFQP28UmMRuTBL+aaGrAaOSmGMPE4DWNWYpACgAKAAUJOu9R1FLsxSvtVHVY9FKYyRx9HDVn1PKQAoACgA6ueVGovIhVnKNzVkNXBUCmPkcRrAqsYkBQAFAAWAmnSt7yhyYZbyrT6qeixKYYw8jh626ntKAUABQAFQP6/UWEQuzFK+qSGrgaNSGCOP0wBWNSYpACgAKADUpGt9R5ELs5Rv9VHVY1EKY+Rx9LBV31MKAAoACoD6eaXGInJhlvJNDVkNHJXCGHmcBrCqMUkBQAFAAaAmXes7ilyYpXyrj6oei1IYI4+jh636nlIAUABQANTPKzUWkQuzlG9qyGrgqBTGyOM0gFWNSQoACgAKADXpWt9R5MIs5Vt9VPVYlMIYeRw9bNX3lAKAAoACoH5eqbGIXJilfFNDVgNHpTBGHqcBrGpMUgBQAFAAqEnX+o4iF2Yp3+qjqseiFMbI4+hhq76nFAAUABQA9fNKjUXkwizlmxqyGjgqhTHyOA1gVWOSAoACgAJATbrWdxS5MEv5Vh9VPRalMEYeRw9b9T2lAKAAoACon1dqLCIXZinf1JDVwFEpjJHHaQCrGpMUABQAFABq0rW+o8iFWcq3+qjqsSiFMfI4etiq7ykFAAUABUD9vFJjEbkwS/mmhqwGjkphjDxOA1jVmKQAoACgAFCTrvUdRS7MUr7VR1WPRSmMkcfRw1Z9Tx8FwMel77ru/t/p7Tu7QPx7O419n/VTMwG+rvfYBxzO7z9J1H/ez4u+169kV9iGB1528B+4n+bLpf/8/c3OlYexQPovyNnBf/jd13XKl9xcCX3Rjg+cFPP/3b+d5joxzoHLhzv+lzXg3GfKBRr1oz8v87+aJ/Oaoa8OLIjZk/97+i4GwblYCYCP/tKd+rfvWyH/futP8fWiYA99u/709jEWAhsC4Ku/dlES/7z35/g65m1oO7/3QR5MheDaa9MAywKwk//TW//vNic+L13fqV8AdvAf5sJQBM7X/nrOi8XQHe34Ov+TALh86BR9cdwzJ/v4H3M+qgGzHT1nMQ7//e7J/0fetdaAma09/O/pO4+AdrYUAOOCHyu41YRYCIAwAaZCYEIAjAt+vIivSM6xlxMLud8d3LYoAC/xP82DcTcgEgQLu5vzJsyf4493Cnbz/9O/n7v++jUd1e8A7OLfoADYxf+O2nCfYHgnizzdxf8qb8ffRjeP4Dkfx31nZQ//e/reB8A7WQqA399+VHHdIAJKF/bSfqsJAzRBYlqm7dxBBOws6uN2UCweYqu453EiDOf7+R94DbtB+cdF67FQrmN29vA/3gGOz312zpV4wIPP1xyU8z/l/bz1q7P4D/HHn2L+xwXg3J/P0WMQhc8AX+d/Wc+13v2/zH/f98VzJZ5gYOcPAmAAZCoCXd8V3dHZEgADPxOxXd8Vb+/ZWQB28R8/B1S6/b8uAMX8L+4AnPIfifjpfZB493C5QAw4o/63rslF+T8K/vXjwmE3aG0N+3qLk331f74B0Po4aM1QEf+3H+3pux4H4XolAKY7uUDklNTPlL0lATBs681JPD3Xj5I8wdg4CYrFQsLIQV8vC8Ar/E+F3cYCUMr/tODPxd6KAHid/7ALFGrHcl7hLv6Dn/OnlP/xLqHvunjHT+ccWPL0Gv+aH/+9zH+/Y67MEwzubCEAHoksWdxL+ugoAI8v9TxPas2L/zAb4wLwGv83bg08Ayznf0r+efs72gZWJgTJ/ywAyvnv+/72CGB+6/95rYCr/lXyfyka4vmk5Tzwsof/PX2DfcTjQgD8N27pRtt4Y1Hv+knVTwv945vedgRAv36OPyZ52BGYEry73/bdrpUV/PUkXCTpHv6HuRFt+5vYAdjFf4ykzuI/RPAq/5+X5c7guG1c9MgQ72bgzuQu/lecrx8J3I1in7zKf/id5rwPMdwZ2sN/tu/dIvzJUgDEz/9v/xbA/Hb/WgBMym99FzT3x0v0QPj6GLN0f6Zzi39+s3slAMYJEN35hX874S4QYqu452ss7s//nvJ/mw8h7uSfi+LPg5idYv7jH+19YXTx22MvXuY/fv9jmANKF/8h/vizi//bDUKogcpSfwz7Zf7HdzqmNUBjzY/jfpX/9FyJLWKfPwiAGBgv59gUtfXOC8e5ONsijG09h4uXNmyG2nrnheNcnG0RxrZOAbC6A8Cmq753ucTw0lYfVT0WvXCci1MPW/U9zeHipa0+qnosUgBQACyfAwP/uVargqQnXet72gpTTXbro6rHoiaeWvmqh636nlIAUABQANTPKzUWWxVVTXbVkNXAUU08tfK1AaxqTP4f+OMl1WQGALkAAAAASUVORK5CYII=)"
      ],
      "metadata": {
        "id": "t0GXTACJ-jsD"
      }
    },
    {
      "cell_type": "markdown",
      "source": [
        "#### Understanding the logics of the chessboard\n",
        "\n",
        "- All the squares in the same row have the same X, and squares in the same column have the same Y.\n",
        "- Squares in the same diagonal have equal sums of X and Y, or the difference between X and Y are the same.\n",
        "\n",
        "If the tarrget position is the same as the origin, the queen will need no movements.\n",
        "If the target square is in the same vertical, horizontal or diagonal, the queen will need only one movemente.\n",
        "Otherwise, it will need 2 movements.\n"
      ],
      "metadata": {
        "id": "JGfjzOI8HwpA"
      }
    },
    {
      "cell_type": "markdown",
      "source": [
        "#### Coding the inputs"
      ],
      "metadata": {
        "id": "2wne8XjMHspY"
      }
    },
    {
      "cell_type": "code",
      "execution_count": null,
      "metadata": {
        "colab": {
          "base_uri": "https://localhost:8080/"
        },
        "id": "gkZP_EMM-Zx0",
        "outputId": "4b391671-78fb-4833-b224-e3db4ced642a"
      },
      "outputs": [
        {
          "name": "stdout",
          "output_type": "stream",
          "text": [
            "1 2 3 4\n"
          ]
        }
      ],
      "source": [
        "position = input()\n",
        "\n",
        "x1, y1, x2, y2 = [int(x) for x in position.split(\" \")]"
      ]
    },
    {
      "cell_type": "markdown",
      "source": [
        "#### Coding the logic"
      ],
      "metadata": {
        "id": "d4ATPTdYXfW6"
      }
    },
    {
      "cell_type": "code",
      "source": [
        "if x1 == x2 and y1 == y2:\n",
        "  movement = 0\n",
        "elif (x1 == y1 or y1 == y2) or (x1+y1 == x2+y2 or y1-x1 == y2-x2):\n",
        "  movement = 1\n",
        "else:\n",
        "  movement =2\n",
        "\n",
        "print(movement)"
      ],
      "metadata": {
        "colab": {
          "base_uri": "https://localhost:8080/"
        },
        "id": "GOQ1AyZ3_EKD",
        "outputId": "407d5c1c-1563-4839-f42b-d2b850ca450b"
      },
      "execution_count": null,
      "outputs": [
        {
          "output_type": "stream",
          "name": "stdout",
          "text": [
            "1\n"
          ]
        }
      ]
    },
    {
      "cell_type": "markdown",
      "source": [
        "#### Final code\n",
        "Rules:\n",
        "- X and Y must be between 1 and 8;\n",
        "- The script must repeat the insertion of inputs until input is \"0 0 0 0\";\n",
        "- The output must be a single line, containing an integer, indicating the smallest number of moves needed for the queen to reach the new position."
      ],
      "metadata": {
        "id": "H_7AfzTZSUsY"
      }
    },
    {
      "cell_type": "code",
      "source": [
        "aux = True\n",
        "while aux == True:\n",
        "  position = input()\n",
        "  x1, y1, x2, y2 = [int(x) for x in position.split(\" \")]\n",
        "\n",
        "  if position == '0 0 0 0':\n",
        "    aux = False\n",
        "    break\n",
        "\n",
        "  if x1 == x2 and y1 == y2:\n",
        "    movement = 0\n",
        "  elif (x1 == x2 or y1 == y2) or (x1+y1 == x2+y2 or y1-x1 == y2-x2):\n",
        "    movement = 1\n",
        "  else:\n",
        "    movement =2\n",
        "\n",
        "  print(movement)\n"
      ],
      "metadata": {
        "colab": {
          "base_uri": "https://localhost:8080/"
        },
        "id": "8tWG5EmqSF--",
        "outputId": "87f3f5a7-28bb-469b-8aa1-a325f6ea74a8"
      },
      "execution_count": null,
      "outputs": [
        {
          "name": "stdout",
          "output_type": "stream",
          "text": [
            "1 2 3 4\n",
            "1\n",
            "1 2 4 5\n",
            "1\n",
            "1 2 1 2\n",
            "0\n",
            "0 0 0 0\n"
          ]
        }
      ]
    }
  ]
}